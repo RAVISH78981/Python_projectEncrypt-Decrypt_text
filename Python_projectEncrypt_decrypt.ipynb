{
  "nbformat": 4,
  "nbformat_minor": 0,
  "metadata": {
    "colab": {
      "provenance": []
    },
    "kernelspec": {
      "name": "python3",
      "display_name": "Python 3"
    },
    "language_info": {
      "name": "python"
    }
  },
  "cells": [
    {
      "cell_type": "markdown",
      "source": [
        "PyCryptodome is a self-contained Python package of low-level cryptographic primitives.\n",
        "The Crypto.Cipher package contains algorithms for protecting the confidentiality of data.\n",
        "**Symmetric(all parties use same key) cypher algorithm** is used for encryption purpose.In symmetric cypher ,I have used Block ciphers which can only operate on a fixed amount of data. A block cipher is AES, which has a block size of 128 bits (16 bytes).\n"
      ],
      "metadata": {
        "id": "QgQxwgiBxIfS"
      }
    },
    {
      "cell_type": "code",
      "source": [
        "pip install pycryptodome;"
      ],
      "metadata": {
        "id": "ZqIKNU76ocD7"
      },
      "execution_count": null,
      "outputs": []
    },
    {
      "cell_type": "code",
      "source": [
        "from Crypto.Cipher import AES;\n",
        "from Crypto import Random;\n",
        "from binascii import b2a_hex;\n",
        "import sys;\n",
        "\n",
        "# get the plaintext\n",
        "plain_text = sys.argv[1]\n",
        "\n",
        "# The key length must be 16 (AES-128), 24 (AES-192), or 32 (AES-256) Bytes.\n",
        "key = b'Highly Encrypted'\n",
        "\n",
        "# Generating a non-repeatable key vector with a length\n",
        "# equal to the size of the AES block\n",
        "iv = Random.new().read(AES.block_size)\n",
        "#iv stands for initialization vector\n",
        "#used to ensure that the same value encrypted multiple times,\n",
        "#even with the same secret key,will not always result in the same encrypted value\n",
        "# Use key and iv to initialize AES object, use MODE_CFB mode\n",
        "mycipher = AES.new(key, AES.MODE_CFB, iv)\n",
        "\n",
        "# Add iv (key vector) to the beginning of the encrypted ciphertext\n",
        "# and transmit it together\n",
        "ciphertext = iv + mycipher.encrypt(plain_text.encode())\n",
        "\n",
        "\n",
        "# To decrypt, use key and iv to generate a new AES object\n",
        "mydecrypt = AES.new(key, AES.MODE_CFB, ciphertext[:16])\n",
        "\n",
        "# Use the newly generated AES object to decrypt the encrypted ciphertext\n",
        "decrypttext = mydecrypt.decrypt(ciphertext[16:])\n",
        "\n",
        "# output\n",
        "file_out = open(\"encrypted.bin\", \"wb\")\n",
        "file_out.write(ciphertext[16:])\n",
        "file_out.close()\n",
        "\n",
        "print(\"The key k is: \", key)\n",
        "print(\"iv is: \", b2a_hex(ciphertext)[:16])\n",
        "print(\"The encrypted data is: \", b2a_hex(ciphertext)[16:])\n",
        "print(\"The decrypted data is: \", decrypttext.decode())\n"
      ],
      "metadata": {
        "colab": {
          "base_uri": "https://localhost:8080/"
        },
        "id": "oRjGHN9Iozrm",
        "outputId": "0ac8da5d-2542-4759-b0b6-41bb269c9891"
      },
      "execution_count": 15,
      "outputs": [
        {
          "output_type": "stream",
          "name": "stdout",
          "text": [
            "The key k is:  b'Highly Encrypted'\n",
            "iv is:  b'f610e0181d5a6743'\n",
            "The encrypted data is:  b'1303550f4b82329cf100'\n",
            "The decrypted data is:  -f\n"
          ]
        }
      ]
    }
  ]
}